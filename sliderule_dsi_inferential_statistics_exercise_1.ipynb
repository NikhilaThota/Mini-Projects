{
 "cells": [
  {
   "cell_type": "markdown",
   "metadata": {},
   "source": [
    "# What is the True Normal Human Body Temperature? \n",
    "\n",
    "#### Background\n",
    "\n",
    "The mean normal body temperature was held to be 37$^{\\circ}$C or 98.6$^{\\circ}$F for more than 120 years since it was first conceptualized and reported by Carl Wunderlich in a famous 1868 book. But, is this value statistically correct?"
   ]
  },
  {
   "cell_type": "markdown",
   "metadata": {},
   "source": [
    "#Exercises\n",
    "\n",
    "In this exercise, you will analyze a dataset of human body temperatures and employ the concepts of hypothesis testing, confidence intervals, and statistical significance.\n",
    "\n",
    "Answer the following questions in this notebook below and submit to your Github account\n",
    "\n",
    "1. Is the distribution of body temperatures normal? \n",
    " - Although this is not a requirement for CLT to hold (read CLT carefully), it gives us some peace of mind that the population may also be normally distributed if we assume that this sample is representative of the population.\n",
    " - Is the sample size large? Are the observations independent?\n",
    " - Remember that this is a condition for the CLT, and hence the statistical tests we are using, to apply.\n",
    "2. Is the true population mean really 98.6 degrees F?\n",
    " - Would you use a one-sample or two-sample test? Why?\n",
    " - In this situation, is it appropriate to use the $t$ or $z$ statistic? \n",
    " - Now try using the other test. How is the result be different? Why?\n",
    "3. At what temperature should we consider someone's temperature to be \"abnormal\"?\n",
    " - Start by computing the margin of error and confidence interval.\n",
    " - Is there a significant difference between males and females in normal temperature?\n",
    "4. What test did you use and why?\n",
    " - Write a story with your conclusion in the context of the original problem.\n",
    "    \n",
    "\n",
    "You can include written notes in notebook cells using Markdown: \n",
    "   - In the control panel at the top, choose Cell > Cell Type > Markdown\n",
    "   - Markdown syntax: http://nestacms.com/docs/creating-content/markdown-cheat-sheet\n",
    "\n",
    "#### Resources\n",
    "\n",
    "+ Information and data sources: http://www.amstat.org/publications/jse/datasets/normtemp.txt, http://www.amstat.org/publications/jse/jse_data_archive.htm\n",
    "+ Markdown syntax: http://nestacms.com/docs/creating-content/markdown-cheat-sheet\n",
    "\n",
    "****"
   ]
  },
  {
   "cell_type": "markdown",
   "metadata": {},
   "source": [
    "The dataset contains body temperatures and heart rate of 130 men and women. The sample size being greater than 30 we can apply z statistic. The mean is 98.2$^{\\circ}$F which is not equal to the traditional value 98.6$^{\\circ}$F suggested by  Carl Wunderlich. Let us test what the statistics say..."
   ]
  },
  {
   "cell_type": "code",
   "execution_count": 55,
   "metadata": {
    "collapsed": true
   },
   "outputs": [],
   "source": [
    "import pandas as pd\n",
    "import numpy as np\n",
    "import scipy as sp\n",
    "import seaborn as sns\n",
    "import matplotlib.pyplot as plt\n",
    "import math\n",
    "%matplotlib inline"
   ]
  },
  {
   "cell_type": "code",
   "execution_count": 110,
   "metadata": {
    "collapsed": true
   },
   "outputs": [],
   "source": [
    "#Read csv file and convert to dataframe - body_temps\n",
    "body_temps = pd.read_csv('~\\data\\human_body_temperature.csv')"
   ]
  },
  {
   "cell_type": "code",
   "execution_count": 111,
   "metadata": {
    "collapsed": false
   },
   "outputs": [
    {
     "data": {
      "text/html": [
       "<div>\n",
       "<style>\n",
       "    .dataframe thead tr:only-child th {\n",
       "        text-align: right;\n",
       "    }\n",
       "\n",
       "    .dataframe thead th {\n",
       "        text-align: left;\n",
       "    }\n",
       "\n",
       "    .dataframe tbody tr th {\n",
       "        vertical-align: top;\n",
       "    }\n",
       "</style>\n",
       "<table border=\"1\" class=\"dataframe\">\n",
       "  <thead>\n",
       "    <tr style=\"text-align: right;\">\n",
       "      <th></th>\n",
       "      <th>temperature</th>\n",
       "      <th>gender</th>\n",
       "      <th>heart_rate</th>\n",
       "    </tr>\n",
       "  </thead>\n",
       "  <tbody>\n",
       "    <tr>\n",
       "      <th>0</th>\n",
       "      <td>99.3</td>\n",
       "      <td>F</td>\n",
       "      <td>68.0</td>\n",
       "    </tr>\n",
       "    <tr>\n",
       "      <th>1</th>\n",
       "      <td>98.4</td>\n",
       "      <td>F</td>\n",
       "      <td>81.0</td>\n",
       "    </tr>\n",
       "    <tr>\n",
       "      <th>2</th>\n",
       "      <td>97.8</td>\n",
       "      <td>M</td>\n",
       "      <td>73.0</td>\n",
       "    </tr>\n",
       "    <tr>\n",
       "      <th>3</th>\n",
       "      <td>99.2</td>\n",
       "      <td>F</td>\n",
       "      <td>66.0</td>\n",
       "    </tr>\n",
       "    <tr>\n",
       "      <th>4</th>\n",
       "      <td>98.0</td>\n",
       "      <td>F</td>\n",
       "      <td>73.0</td>\n",
       "    </tr>\n",
       "  </tbody>\n",
       "</table>\n",
       "</div>"
      ],
      "text/plain": [
       "   temperature gender  heart_rate\n",
       "0         99.3      F        68.0\n",
       "1         98.4      F        81.0\n",
       "2         97.8      M        73.0\n",
       "3         99.2      F        66.0\n",
       "4         98.0      F        73.0"
      ]
     },
     "execution_count": 111,
     "metadata": {},
     "output_type": "execute_result"
    }
   ],
   "source": [
    "body_temps.head()"
   ]
  },
  {
   "cell_type": "markdown",
   "metadata": {},
   "source": [
    "# 1. Is the distribution of body temperatures normal?"
   ]
  },
  {
   "cell_type": "markdown",
   "metadata": {},
   "source": [
    "From the distplot below the KDE is not a perfect bell shaped curve, but it is clear that the distribution resembles a bell curve. Even with only 130 observations in hand the data is a close match to a normal distribution. Therefore we can conclude that sample is **Normally Distributed**."
   ]
  },
  {
   "cell_type": "code",
   "execution_count": 112,
   "metadata": {
    "collapsed": false
   },
   "outputs": [
    {
     "name": "stderr",
     "output_type": "stream",
     "text": [
      "C:\\Users\\nikhi_000\\Anaconda3\\lib\\site-packages\\statsmodels\\nonparametric\\kdetools.py:20: VisibleDeprecationWarning: using a non-integer number instead of an integer will result in an error in the future\n",
      "  y = X[:m/2+1] + np.r_[0,X[m/2+1:],0]*1j\n"
     ]
    },
    {
     "data": {
      "text/plain": [
       "<matplotlib.text.Text at 0x26e0b606278>"
      ]
     },
     "execution_count": 112,
     "metadata": {},
     "output_type": "execute_result"
    },
    {
     "data": {
      "image/png": "[encoded data removed]",
      "text/plain": [
       "<matplotlib.figure.Figure at 0x26e0b63f710>"
      ]
     },
     "metadata": {},
     "output_type": "display_data"
    }
   ],
   "source": [
    "# Distplot with Kernel Density function \n",
    "g = sns.distplot(body_temps.temperature, axlabel='Temperature in Farenheit', color='r')\n",
    "g.set_title('Histogram for Body Temperature')"
   ]
  },
  {
   "cell_type": "markdown",
   "metadata": {},
   "source": [
    "# 2. Is the sample size large? Are the observations independent?"
   ]
  },
  {
   "cell_type": "markdown",
   "metadata": {},
   "source": [
    "According to the **Central Limit Theorem** a sample with a size of equal to or more than 30 is considered good for statistic analysis. The sample size of the data set is sufficietly large with 130 values.\n",
    "\n",
    "Independent Observations - ???"
   ]
  },
  {
   "cell_type": "code",
   "execution_count": 113,
   "metadata": {
    "collapsed": false
   },
   "outputs": [
    {
     "data": {
      "text/plain": [
       "(130, 3)"
      ]
     },
     "execution_count": 113,
     "metadata": {},
     "output_type": "execute_result"
    }
   ],
   "source": [
    "# Dataframe body_temps has 130 columns and 3 rows\n",
    "body_temps.shape"
   ]
  },
  {
   "cell_type": "markdown",
   "metadata": {},
   "source": [
    "# 3. Is the true population mean really 98.6 degrees F?\n",
    " **a.** Would you use a one-sample or two-sample test? Why?\n",
    " \n",
    " **b.** In this situation, is it appropriate to use the tt or zz statistic?\n",
    " \n",
    " **c.** Now try using the other test. How is the result be different? Why?"
   ]
  },
  {
   "cell_type": "code",
   "execution_count": 115,
   "metadata": {
    "collapsed": false
   },
   "outputs": [
    {
     "data": {
      "text/plain": [
       "(98.24923076923078, 0.7331831580389454)"
      ]
     },
     "execution_count": 115,
     "metadata": {},
     "output_type": "execute_result"
    }
   ],
   "source": [
    "#Calculate Mean and Standard deviation \n",
    "# Declare variable n - sample size\n",
    "sample_mean, sample_std = body_temps.temperature.mean(), body_temps.temperature.std()\n",
    "n = 130\n",
    "sample_mean, sample_std"
   ]
  },
  {
   "cell_type": "markdown",
   "metadata": {},
   "source": [
    "** a.**  One way to find out the population mean from sample means is to plot a ** Sampling Distribution of sample means. ** But for this the population size should be provided to derive decent number of samples, calculate their means and then draw a graph for the means obtained. \n",
    "\n",
    "The objective is to compare the sample mean to the normal body temperature which is 98.6$^{\\circ}$ F. ** One-sample test** is used, because we are testing if the mean falls close to 98.6$^{\\circ}$ F, rather than comparing temperatures of two groups (which is when a two-sample test is used).\n",
    "\n",
    "Since the sample is 130 observations it is ** considerably large sample. ** According to the ** Central Limit Theorem ** a sample greater than 30 can be considered normally distributed even if the population is not normally distributed."
   ]
  },
  {
   "cell_type": "markdown",
   "metadata": {},
   "source": [
    "** b. ** In this case:\n",
    "- the sample observations follow a ** Normal distribution **\n",
    "- the sample size n is large (>30)\n",
    "- population standard deviation is unknown **(σ)**.\n",
    "\n",
    "Therefore it is appropriate to use a ** t-statistic **\n",
    "\n",
    "To check if the population mean is 98.6$^{\\circ}$ F, let us test for Hypothesis:\n",
    "\n",
    "$H$o : Population mean(μ) = 98.6$^{\\circ}$ F\n",
    "\n",
    "$H$a : Population mean(μ) ≠ 98.6$^{\\circ}$ F\n",
    "\n",
    "Calculation of t-value:\n",
    "\n",
    "**t = (x̄ - μ) / (s /√n)**\n",
    "\n",
    "Significance level **α = 0.05**\n",
    "\n",
    "Degrees of Freedom **130-1=129**\n",
    "\n",
    "The two-tailed critical $t$ value for a significance level of 5% and 129 degrees of freedom is **1.98**\n",
    "\n",
    "** t-table link** - http://www.sjsu.edu/faculty/gerstman/StatPrimer/t-table.pdf\n",
    "\n",
    "**If the t-statistic is less than -1.98 or greater than 1.98, then reject the Null Hypothesis**"
   ]
  },
  {
   "cell_type": "code",
   "execution_count": 116,
   "metadata": {
    "collapsed": false
   },
   "outputs": [
    {
     "data": {
      "text/plain": [
       "Ttest_1sampResult(statistic=-5.4548232923645195, pvalue=2.4106320415561276e-07)"
      ]
     },
     "execution_count": 116,
     "metadata": {},
     "output_type": "execute_result"
    }
   ],
   "source": [
    "# Calculating the t-value and p-value\n",
    "sp.stats.ttest_1samp(body_temps.temperature,popmean=98.6)"
   ]
  },
  {
   "cell_type": "code",
   "execution_count": 117,
   "metadata": {
    "collapsed": false
   },
   "outputs": [
    {
     "data": {
      "text/plain": [
       "-5.454823292364079"
      ]
     },
     "execution_count": 117,
     "metadata": {},
     "output_type": "execute_result"
    }
   ],
   "source": [
    "# Detailed calculation using original formula (t = (x̄ - μ) / (s /√n))\n",
    "pop_mean=98.6\n",
    "t = (sample_mean-pop_mean)/(sample_std/n**(1/2))\n",
    "t"
   ]
  },
  {
   "cell_type": "markdown",
   "metadata": {},
   "source": [
    "<img src = \"1vs2.jpg\">\n",
    "\n",
    "**From the result above (t-statistic = -5.454, pvalue = 2.41), t-statistic is less than -1.980. Therefore we can reject the Null Hypothesis $H$o : Population mean(μ) = 98.6$^{\\circ}$ F**"
   ]
  },
  {
   "cell_type": "markdown",
   "metadata": {},
   "source": [
    "**c.** Using z statistic\n",
    "\n",
    "$H$o : Population mean(μ) = 98.6$^{\\circ}$ F\n",
    "\n",
    "$H$a : Population mean(μ) ≠ 98.6$^{\\circ}$ F\n",
    "\n",
    "Significance level α = 0.05\n",
    "\n",
    "The z value for a two-tailed normal distribution with 0.025 on both sides is **1.96** (z-value with .975 area in the body)\n",
    "\n",
    "**If the z-statistic is less than -1.96 or greater than 1.96, then reject the Null Hypothesis**\n",
    "\n",
    "Calculation of z-value:\n",
    "\n",
    "**z = (x̄ - μ) / ( σ/√n)**\n",
    "\n",
    "Note: Since σ (population standard deviation) is not provided, sample standard deviation (s) is used for calculating z-statistic\n"
   ]
  },
  {
   "cell_type": "code",
   "execution_count": 118,
   "metadata": {
    "collapsed": false
   },
   "outputs": [
    {
     "data": {
      "text/plain": [
       "-5.454823292364079"
      ]
     },
     "execution_count": 118,
     "metadata": {},
     "output_type": "execute_result"
    }
   ],
   "source": [
    "# Calculating z statistisc (z = (x̄ - μ) / ( σ/√n))\n",
    "z = (sample_mean-pop_mean)/(sample_std/n**(1/2))\n",
    "z"
   ]
  },
  {
   "cell_type": "markdown",
   "metadata": {},
   "source": [
    "The z-statistic -5.45 is much lesser than -1.96 (or) -5.45 doesn't fall in the range -1.96, 1.96. Therefore the **Null Hypothesis $H$o : Population mean(μ) = 98.6$^{\\circ}$ F is rejected**"
   ]
  },
  {
   "cell_type": "markdown",
   "metadata": {},
   "source": [
    "# 4. At what temperature should we consider someone's temperature to be \"abnormal\"?"
   ]
  },
  {
   "cell_type": "markdown",
   "metadata": {},
   "source": [
    "Assuming that most of the human body temperatures are normal, it is appropriate to infer that 95% area under the bell curve falls under normal temperature, anything outside that range can be considered abnormal.\n",
    "\n",
    "Calculating a t-statistic interval range with 95% Confidence Interval:\n",
    "\n",
    "**(x̄ + $t_{α/2,n−1}$(s/√n), x̄ - $t_{α/2,n−1}$(s/√n))**\n",
    "\n",
    "**Margin of error - $t_{α/2,n−1}$(s/√n)**\n",
    "\n",
    "t-value for a 95% CI with 129 degerees of freedom is **1.984**\n",
    "\n",
    "** t-table link** - http://www.sjsu.edu/faculty/gerstman/StatPrimer/t-table.pdf"
   ]
  },
  {
   "cell_type": "code",
   "execution_count": 119,
   "metadata": {
    "collapsed": false
   },
   "outputs": [
    {
     "data": {
      "text/plain": [
       "0.12757996300637575"
      ]
     },
     "execution_count": 119,
     "metadata": {},
     "output_type": "execute_result"
    }
   ],
   "source": [
    "# Margin of Error calculation\n",
    "margin_of_error = 1.984*(sample_std/n**(1/2))\n",
    "margin_of_error"
   ]
  },
  {
   "cell_type": "code",
   "execution_count": 120,
   "metadata": {
    "collapsed": false
   },
   "outputs": [
    {
     "data": {
      "text/plain": [
       "(98.12165080622441, 98.37681073223715)"
      ]
     },
     "execution_count": 120,
     "metadata": {},
     "output_type": "execute_result"
    }
   ],
   "source": [
    "# Calculation of upper and lower limits in the interval\n",
    "lower_limit = sample_mean-margin_of_error\n",
    "upper_limit = sample_mean+margin_of_error\n",
    "lower_limit, upper_limit"
   ]
  },
  {
   "cell_type": "markdown",
   "metadata": {},
   "source": [
    "The interval is **(98.12$^{\\circ}$ F, 98.37$^{\\circ}$ F).** \n",
    "\n",
    "** Anything below 98.12$^{\\circ}$ F and more than 98.37$^{\\circ}$ F is \"abnormal\".**"
   ]
  },
  {
   "cell_type": "markdown",
   "metadata": {},
   "source": [
    "# 5. Is there a significant difference between males and females in normal temperature?\n",
    "**a.** What test did you use and why?\n",
    "\n",
    "**b.** Write a story with your conclusion in the context of the original problem.\n"
   ]
  },
  {
   "cell_type": "markdown",
   "metadata": {},
   "source": [
    "To check if there is a considerable difference between means of two groups **ANOVA (Analysis of Variance)** is used. \n",
    "\n",
    "If the variation between the groups is much larger than variation within the groups then there must be a significant effect of an experiment on the group/s.\n",
    "\n",
    "In other words if the variation between male and female temperatures is huge, then we can conclude that there is a significant difference."
   ]
  },
  {
   "cell_type": "code",
   "execution_count": 129,
   "metadata": {
    "collapsed": false,
    "scrolled": false
   },
   "outputs": [],
   "source": [
    "# Creating two new dataframes 'body_temps_male' - consisting male gender data  and \n",
    "#'body_temps_female' - consisting of female gender data\n",
    "body_temps_male = body_temps.loc[body_temps['gender']=='M']\n",
    "body_temps_female = body_temps.loc[body_temps['gender']=='F']"
   ]
  },
  {
   "cell_type": "code",
   "execution_count": 150,
   "metadata": {
    "collapsed": false
   },
   "outputs": [
    {
     "data": {
      "text/plain": [
       "(98.1046153846154, 0.6987557623265908, 0.488259615384615, 65)"
      ]
     },
     "execution_count": 150,
     "metadata": {},
     "output_type": "execute_result"
    }
   ],
   "source": [
    "# Calculating statistics like Mean, Standard deviation, Variance\n",
    "# Also finding no of columns in body_temps_male - len()\n",
    "male_mean = body_temps_male.temperature.mean()\n",
    "male_std = body_temps_male.temperature.std()\n",
    "male_var = body_temps_male.temperature.var()\n",
    "male_mean,male_std, male_var, len(body_temps_male)"
   ]
  },
  {
   "cell_type": "code",
   "execution_count": 151,
   "metadata": {
    "collapsed": false
   },
   "outputs": [
    {
     "data": {
      "text/plain": [
       "(98.39384615384613, 0.7434877527313665, 0.5527740384615375, 65)"
      ]
     },
     "execution_count": 151,
     "metadata": {},
     "output_type": "execute_result"
    }
   ],
   "source": [
    "# Calculating statistics like Mean, Standard deviation, Variance\n",
    "# Also finding no of columns in body_temps_female - len()\n",
    "female_mean = body_temps_female.temperature.mean()\n",
    "female_std = body_temps_female.temperature.std()\n",
    "female_var = body_temps_female.temperature.var()\n",
    "female_mean, female_std, female_var, len(body_temps_female)"
   ]
  },
  {
   "cell_type": "markdown",
   "metadata": {},
   "source": [
    "To check if there exists a significant difference between normal temperatures of males and females, let us define the Hypethesis testing:\n",
    "\n",
    "**$H$o: There isn't a significant difference between x̄$_{male}$ and x̄$_{female}$ **\n",
    "\n",
    "**$H$a: There is a significant difference between x̄$_{male}$ and x̄$_{female}$ **\n",
    "\n",
    "**Significance Level = 0.05**"
   ]
  },
  {
   "cell_type": "code",
   "execution_count": 149,
   "metadata": {
    "collapsed": false
   },
   "outputs": [
    {
     "data": {
      "text/plain": [
       "F_onewayResult(statistic=5.2232110282402724, pvalue=0.023931883122395092)"
      ]
     },
     "execution_count": 149,
     "metadata": {},
     "output_type": "execute_result"
    }
   ],
   "source": [
    "# calculating f-statistic\n",
    "sp.stats.f_oneway(body_temps_male.temperature, body_temps_female.temperature)"
   ]
  },
  {
   "cell_type": "markdown",
   "metadata": {},
   "source": [
    "**Degrees of Freedom:**\n",
    "\n",
    "- m = no. of groups (2 in this case - male, female\n",
    "    \n",
    "- n = no. of values in each group (65)\n",
    "\n",
    "     1. Sum of squares within the groups-> m(n-1)  **degrees of freedom = 2(65-1) = 128**  \n",
    "        \n",
    "     2. Sum of squares between the groups-> m-1    **degrees of freedom = (2-1) = 1**\n",
    "     \n",
    "     \n",
    "**From the distribution of F-statistic for 1 degrees of freedom for Sum of squares between the groups and 128 degrees of freedom \n",
    "\n",
    "**for Sum of squares within the group with a significance level equal to 0.05 is 3.9201**\n",
    "\n",
    "F-table link http://www.socr.ucla.edu/applets.dir/f_table.html\n",
    "\n",
    "**The F-statistic 5.2232 is greater than 3.9201, therefore we can reject the Null Hypothesis $H$o: There isn't a significant**\n",
    "\n",
    "**difference between x̄$_{male}$ and x̄$_{female}$ **"
   ]
  }
 ],
 "metadata": {
  "kernelspec": {
   "display_name": "Python 3",
   "language": "python",
   "name": "python3"
  },
  "language_info": {
   "codemirror_mode": {
    "name": "ipython",
    "version": 3
   },
   "file_extension": ".py",
   "mimetype": "text/x-python",
   "name": "python",
   "nbconvert_exporter": "python",
   "pygments_lexer": "ipython3",
   "version": "3.6.0"
  }
 },
 "nbformat": 4,
 "nbformat_minor": 0
}
