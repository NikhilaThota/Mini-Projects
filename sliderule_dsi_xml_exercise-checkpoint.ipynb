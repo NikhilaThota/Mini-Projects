{
 "cells": [
  {
   "cell_type": "markdown",
   "metadata": {},
   "source": [
    "# XML example and exercise\n",
    "****\n",
    "+ study examples of accessing nodes in XML tree structure  \n",
    "+ work on exercise to be completed and submitted\n",
    "****\n",
    "+ reference: https://docs.python.org/2.7/library/xml.etree.elementtree.html\n",
    "+ data source: http://www.dbis.informatik.uni-goettingen.de/Mondial\n",
    "****"
   ]
  },
  {
   "cell_type": "code",
   "execution_count": 50,
   "metadata": {
    "collapsed": true
   },
   "outputs": [],
   "source": [
    "import numpy as np\n",
    "import pandas as pd\n",
    "from xml.etree import ElementTree as ET"
   ]
  },
  {
   "cell_type": "markdown",
   "metadata": {},
   "source": [
    "## XML example\n",
    "\n",
    "+ for details about tree traversal and iterators, see https://docs.python.org/2.7/library/xml.etree.elementtree.html"
   ]
  },
  {
   "cell_type": "code",
   "execution_count": 51,
   "metadata": {
    "collapsed": false
   },
   "outputs": [],
   "source": [
    "document_tree = ET.parse('~\\data\\mondial_database_less.xml' )"
   ]
  },
  {
   "cell_type": "code",
   "execution_count": 52,
   "metadata": {
    "collapsed": false
   },
   "outputs": [
    {
     "name": "stdout",
     "output_type": "stream",
     "text": [
      "Albania\n",
      "Greece\n",
      "Macedonia\n",
      "Serbia\n",
      "Montenegro\n",
      "Kosovo\n",
      "Andorra\n"
     ]
    }
   ],
   "source": [
    "# print names of all countries\n",
    "for child in document_tree.getroot():\n",
    "    print (child.find('name').text)"
   ]
  },
  {
   "cell_type": "code",
   "execution_count": 53,
   "metadata": {
    "collapsed": false
   },
   "outputs": [
    {
     "name": "stdout",
     "output_type": "stream",
     "text": [
      "* Albania:\n",
      "Tirana, Shkodër, Durrës, Vlorë, Elbasan, Korçë\n",
      "* Greece:\n",
      "Komotini, Kavala, Athina, Peiraias, Peristeri, Acharnes, Patra, Kozani, Kerkyra, Ioannina, Thessaloniki, Iraklio, Chania, Ermoupoli, Rhodes, Tripoli, Lamia, Chalkida, Larissa, Volos, Mytilini, Karyes\n",
      "* Macedonia:\n",
      "Skopje, Kumanovo\n",
      "* Serbia:\n",
      "Beograd, Novi Sad, Niš\n",
      "* Montenegro:\n",
      "Podgorica\n",
      "* Kosovo:\n",
      "Prishtine\n",
      "* Andorra:\n",
      "Andorra la Vella\n"
     ]
    }
   ],
   "source": [
    "# print names of all countries and their cities\n",
    "for element in document_tree.iterfind('country'):\n",
    "    print('* ' + element.find('name').text + ':',)\n",
    "    capitals_string = ''\n",
    "    for subelement in element.getiterator('city'):\n",
    "        capitals_string += subelement.find('name').text + ', '\n",
    "    print(capitals_string[:-2])"
   ]
  },
  {
   "cell_type": "markdown",
   "metadata": {},
   "source": [
    "****\n",
    "## XML exercise\n",
    "\n",
    "Using data in 'data/mondial_database.xml', the examples above, and refering to https://docs.python.org/2.7/library/xml.etree.elementtree.html, find\n",
    "\n",
    "1. 10 countries with the lowest infant mortality rates\n",
    "2. 10 cities with the largest population\n",
    "3. 10 ethnic groups with the largest overall populations (sum of best/latest estimates over all countries)\n",
    "4. name and country of a) longest river, b) largest lake and c) airport at highest elevation"
   ]
  },
  {
   "cell_type": "code",
   "execution_count": 54,
   "metadata": {
    "collapsed": true
   },
   "outputs": [],
   "source": [
    "document = ET.parse( 'E:\\Data Science\\Assignments\\data_wrangling_xml\\data\\mondial_database.xml' )"
   ]
  },
  {
   "cell_type": "markdown",
   "metadata": {},
   "source": [
    "# 1. 10 countries with the lowest infant mortality rates"
   ]
  },
  {
   "cell_type": "code",
   "execution_count": 55,
   "metadata": {
    "collapsed": false
   },
   "outputs": [
    {
     "data": {
      "text/plain": [
       "<Element 'mondial' at 0x00000154B5DCB318>"
      ]
     },
     "execution_count": 55,
     "metadata": {},
     "output_type": "execute_result"
    }
   ],
   "source": [
    "# root is an instance of Element class\n",
    "root = document.getroot()\n",
    "root"
   ]
  },
  {
   "cell_type": "code",
   "execution_count": 56,
   "metadata": {
    "collapsed": false
   },
   "outputs": [],
   "source": [
    "# Create an empty dictionary lim\n",
    "lim = {}\n",
    "# Loop through each subelement in element country\n",
    "for el in document.iter('country'):\n",
    "    # Get the name of each country\n",
    "    cntry = el.find('name')\n",
    "    # Get the infant_mortality of each country\n",
    "    inf = el.find('infant_mortality')\n",
    "    # If 'country name' and 'infant_mortality' is not null, then fill the dictionary 'lim'\n",
    "    if cntry is not None:\n",
    "        if inf is not None:\n",
    "            # Create a key value pair and fill the dictionary \n",
    "            lim[cntry.text] = float(inf.text)"
   ]
  },
  {
   "cell_type": "code",
   "execution_count": 57,
   "metadata": {
    "collapsed": false
   },
   "outputs": [],
   "source": [
    "# Create a DataFrame (infdf) from the dictionary (lim)\n",
    "infdf = pd.DataFrame(list(lim.items()), columns=['Country', 'Infant_Mortality'])"
   ]
  },
  {
   "cell_type": "code",
   "execution_count": 58,
   "metadata": {
    "collapsed": false
   },
   "outputs": [
    {
     "data": {
      "text/html": [
       "<div>\n",
       "<style>\n",
       "    .dataframe thead tr:only-child th {\n",
       "        text-align: right;\n",
       "    }\n",
       "\n",
       "    .dataframe thead th {\n",
       "        text-align: left;\n",
       "    }\n",
       "\n",
       "    .dataframe tbody tr th {\n",
       "        vertical-align: top;\n",
       "    }\n",
       "</style>\n",
       "<table border=\"1\" class=\"dataframe\">\n",
       "  <thead>\n",
       "    <tr style=\"text-align: right;\">\n",
       "      <th></th>\n",
       "      <th>Country</th>\n",
       "      <th>Infant_Mortality</th>\n",
       "    </tr>\n",
       "  </thead>\n",
       "  <tbody>\n",
       "    <tr>\n",
       "      <th>0</th>\n",
       "      <td>Albania</td>\n",
       "      <td>13.19</td>\n",
       "    </tr>\n",
       "    <tr>\n",
       "      <th>1</th>\n",
       "      <td>Greece</td>\n",
       "      <td>4.78</td>\n",
       "    </tr>\n",
       "    <tr>\n",
       "      <th>2</th>\n",
       "      <td>Macedonia</td>\n",
       "      <td>7.90</td>\n",
       "    </tr>\n",
       "    <tr>\n",
       "      <th>3</th>\n",
       "      <td>Serbia</td>\n",
       "      <td>6.16</td>\n",
       "    </tr>\n",
       "    <tr>\n",
       "      <th>4</th>\n",
       "      <td>Andorra</td>\n",
       "      <td>3.69</td>\n",
       "    </tr>\n",
       "  </tbody>\n",
       "</table>\n",
       "</div>"
      ],
      "text/plain": [
       "     Country  Infant_Mortality\n",
       "0    Albania             13.19\n",
       "1     Greece              4.78\n",
       "2  Macedonia              7.90\n",
       "3     Serbia              6.16\n",
       "4    Andorra              3.69"
      ]
     },
     "execution_count": 58,
     "metadata": {},
     "output_type": "execute_result"
    }
   ],
   "source": [
    "infdf.head()"
   ]
  },
  {
   "cell_type": "code",
   "execution_count": 59,
   "metadata": {
    "collapsed": false
   },
   "outputs": [
    {
     "data": {
      "text/html": [
       "<div>\n",
       "<style>\n",
       "    .dataframe thead tr:only-child th {\n",
       "        text-align: right;\n",
       "    }\n",
       "\n",
       "    .dataframe thead th {\n",
       "        text-align: left;\n",
       "    }\n",
       "\n",
       "    .dataframe tbody tr th {\n",
       "        vertical-align: top;\n",
       "    }\n",
       "</style>\n",
       "<table border=\"1\" class=\"dataframe\">\n",
       "  <thead>\n",
       "    <tr style=\"text-align: right;\">\n",
       "      <th></th>\n",
       "      <th>Country</th>\n",
       "      <th>Infant_Mortality</th>\n",
       "    </tr>\n",
       "  </thead>\n",
       "  <tbody>\n",
       "    <tr>\n",
       "      <th>36</th>\n",
       "      <td>Monaco</td>\n",
       "      <td>1.81</td>\n",
       "    </tr>\n",
       "    <tr>\n",
       "      <th>90</th>\n",
       "      <td>Japan</td>\n",
       "      <td>2.13</td>\n",
       "    </tr>\n",
       "    <tr>\n",
       "      <th>109</th>\n",
       "      <td>Bermuda</td>\n",
       "      <td>2.48</td>\n",
       "    </tr>\n",
       "    <tr>\n",
       "      <th>34</th>\n",
       "      <td>Norway</td>\n",
       "      <td>2.48</td>\n",
       "    </tr>\n",
       "    <tr>\n",
       "      <th>98</th>\n",
       "      <td>Singapore</td>\n",
       "      <td>2.53</td>\n",
       "    </tr>\n",
       "    <tr>\n",
       "      <th>35</th>\n",
       "      <td>Sweden</td>\n",
       "      <td>2.60</td>\n",
       "    </tr>\n",
       "    <tr>\n",
       "      <th>8</th>\n",
       "      <td>Czech Republic</td>\n",
       "      <td>2.63</td>\n",
       "    </tr>\n",
       "    <tr>\n",
       "      <th>72</th>\n",
       "      <td>Hong Kong</td>\n",
       "      <td>2.73</td>\n",
       "    </tr>\n",
       "    <tr>\n",
       "      <th>73</th>\n",
       "      <td>Macao</td>\n",
       "      <td>3.13</td>\n",
       "    </tr>\n",
       "    <tr>\n",
       "      <th>39</th>\n",
       "      <td>Iceland</td>\n",
       "      <td>3.15</td>\n",
       "    </tr>\n",
       "  </tbody>\n",
       "</table>\n",
       "</div>"
      ],
      "text/plain": [
       "            Country  Infant_Mortality\n",
       "36           Monaco              1.81\n",
       "90            Japan              2.13\n",
       "109         Bermuda              2.48\n",
       "34           Norway              2.48\n",
       "98        Singapore              2.53\n",
       "35           Sweden              2.60\n",
       "8    Czech Republic              2.63\n",
       "72        Hong Kong              2.73\n",
       "73            Macao              3.13\n",
       "39          Iceland              3.15"
      ]
     },
     "execution_count": 59,
     "metadata": {},
     "output_type": "execute_result"
    }
   ],
   "source": [
    "# Sort the countries with lowest infant mortality rates and display the first 'ten' in the list\n",
    "infdf = infdf.sort_values('Infant_Mortality').head(10)\n",
    "infdf"
   ]
  },
  {
   "cell_type": "markdown",
   "metadata": {},
   "source": [
    "# 2. 10 cities with the largest population"
   ]
  },
  {
   "cell_type": "code",
   "execution_count": 60,
   "metadata": {
    "collapsed": false
   },
   "outputs": [],
   "source": [
    "# Looking carefully at the XML Document tree, one can notice that some cities are subelements to the subelement province.\n",
    "# To retrieve those cities and population I defined the XML path \"./country/province/city\"\n",
    "#Create a dictionary 'provdict'\n",
    "provdict = {}\n",
    "for cty in document.findall(\"./country/province/city\"):\n",
    "    # Retreive all the names of the cities, and corresponding population figures\n",
    "    name = cty.find('name')\n",
    "    pop = cty.findall('population')\n",
    "    if pop:\n",
    "        # To retrieve the most recent year's population\n",
    "        provdict[name.text] = int(pop[len(pop)-1].text)    "
   ]
  },
  {
   "cell_type": "code",
   "execution_count": 61,
   "metadata": {
    "collapsed": true
   },
   "outputs": [],
   "source": [
    "# Create DataFrame 'cpdf' from dictionary 'provdict'\n",
    "cpdf = pd.DataFrame(list(provdict.items()), columns=['City', 'Population']).head()"
   ]
  },
  {
   "cell_type": "code",
   "execution_count": 62,
   "metadata": {
    "collapsed": false
   },
   "outputs": [],
   "source": [
    "#Create a dictionary 'dict'\n",
    "dict = {}\n",
    "for city in document.findall(\"./country/city\"):\n",
    "    # Retreive all the names of the cities, and thier respective population figures\n",
    "    name = city.find('name')\n",
    "    pop = city.findall('population')\n",
    "    if pop:\n",
    "        # To retrieve the most recent year's population\n",
    "        dict[name.text] = int(pop[len(pop)-1].text)"
   ]
  },
  {
   "cell_type": "code",
   "execution_count": 63,
   "metadata": {
    "collapsed": false
   },
   "outputs": [],
   "source": [
    "# Create a dataframe cpdf1 from the dictionary dict\n",
    "cpdf1 = pd.DataFrame(list(dict.items()), columns=['City', 'Population'])"
   ]
  },
  {
   "cell_type": "code",
   "execution_count": 64,
   "metadata": {
    "collapsed": false
   },
   "outputs": [
    {
     "data": {
      "text/html": [
       "<div>\n",
       "<style>\n",
       "    .dataframe thead tr:only-child th {\n",
       "        text-align: right;\n",
       "    }\n",
       "\n",
       "    .dataframe thead th {\n",
       "        text-align: left;\n",
       "    }\n",
       "\n",
       "    .dataframe tbody tr th {\n",
       "        vertical-align: top;\n",
       "    }\n",
       "</style>\n",
       "<table border=\"1\" class=\"dataframe\">\n",
       "  <thead>\n",
       "    <tr style=\"text-align: right;\">\n",
       "      <th></th>\n",
       "      <th>City</th>\n",
       "      <th>Population</th>\n",
       "    </tr>\n",
       "  </thead>\n",
       "  <tbody>\n",
       "    <tr>\n",
       "      <th>0</th>\n",
       "      <td>Kavala</td>\n",
       "      <td>58790</td>\n",
       "    </tr>\n",
       "    <tr>\n",
       "      <th>1</th>\n",
       "      <td>Athina</td>\n",
       "      <td>664046</td>\n",
       "    </tr>\n",
       "    <tr>\n",
       "      <th>2</th>\n",
       "      <td>Peiraias</td>\n",
       "      <td>163688</td>\n",
       "    </tr>\n",
       "    <tr>\n",
       "      <th>3</th>\n",
       "      <td>Peristeri</td>\n",
       "      <td>139981</td>\n",
       "    </tr>\n",
       "    <tr>\n",
       "      <th>4</th>\n",
       "      <td>Acharnes</td>\n",
       "      <td>106943</td>\n",
       "    </tr>\n",
       "  </tbody>\n",
       "</table>\n",
       "</div>"
      ],
      "text/plain": [
       "        City  Population\n",
       "0     Kavala       58790\n",
       "1     Athina      664046\n",
       "2   Peiraias      163688\n",
       "3  Peristeri      139981\n",
       "4   Acharnes      106943"
      ]
     },
     "execution_count": 64,
     "metadata": {},
     "output_type": "execute_result"
    }
   ],
   "source": [
    "cpdf.append(cpdf1).head()"
   ]
  },
  {
   "cell_type": "code",
   "execution_count": 65,
   "metadata": {
    "collapsed": false
   },
   "outputs": [
    {
     "data": {
      "text/html": [
       "<div>\n",
       "<style>\n",
       "    .dataframe thead tr:only-child th {\n",
       "        text-align: right;\n",
       "    }\n",
       "\n",
       "    .dataframe thead th {\n",
       "        text-align: left;\n",
       "    }\n",
       "\n",
       "    .dataframe tbody tr th {\n",
       "        vertical-align: top;\n",
       "    }\n",
       "</style>\n",
       "<table border=\"1\" class=\"dataframe\">\n",
       "  <thead>\n",
       "    <tr style=\"text-align: right;\">\n",
       "      <th></th>\n",
       "      <th>City</th>\n",
       "      <th>Population</th>\n",
       "    </tr>\n",
       "  </thead>\n",
       "  <tbody>\n",
       "    <tr>\n",
       "      <th>1</th>\n",
       "      <td>Athina</td>\n",
       "      <td>664046</td>\n",
       "    </tr>\n",
       "    <tr>\n",
       "      <th>2</th>\n",
       "      <td>Peiraias</td>\n",
       "      <td>163688</td>\n",
       "    </tr>\n",
       "    <tr>\n",
       "      <th>3</th>\n",
       "      <td>Peristeri</td>\n",
       "      <td>139981</td>\n",
       "    </tr>\n",
       "    <tr>\n",
       "      <th>4</th>\n",
       "      <td>Acharnes</td>\n",
       "      <td>106943</td>\n",
       "    </tr>\n",
       "    <tr>\n",
       "      <th>0</th>\n",
       "      <td>Kavala</td>\n",
       "      <td>58790</td>\n",
       "    </tr>\n",
       "  </tbody>\n",
       "</table>\n",
       "</div>"
      ],
      "text/plain": [
       "        City  Population\n",
       "1     Athina      664046\n",
       "2   Peiraias      163688\n",
       "3  Peristeri      139981\n",
       "4   Acharnes      106943\n",
       "0     Kavala       58790"
      ]
     },
     "execution_count": 65,
     "metadata": {},
     "output_type": "execute_result"
    }
   ],
   "source": [
    "# Sort the values and displauy the top ten cities with highest population\n",
    "cpdf.sort_values('Population', ascending=False).head(10)"
   ]
  },
  {
   "cell_type": "markdown",
   "metadata": {
    "collapsed": false
   },
   "source": [
    "# 3. 10 ethnic groups with the largest overall populations (sum of best/latest estimates over all countries)"
   ]
  },
  {
   "cell_type": "code",
   "execution_count": 66,
   "metadata": {
    "collapsed": false
   },
   "outputs": [],
   "source": [
    "# Define a dictionary c_p\n",
    "c_p = {}\n",
    "# Define a loop to iterate over countries\n",
    "for e in document.iter('country'):\n",
    "    # Get all the names of countries\n",
    "    cntry = e.find('name')\n",
    "    # Pick the most recent population figure\n",
    "    pop = e.find('.//population[last()]')\n",
    "    # If 'country name' and 'population' is not null, then fill the dictionary 'c_p'\n",
    "    if cntry != None:\n",
    "        if pop != None:\n",
    "            # Create the dictionary with the key(country name) and value(population)\n",
    "            c_p[cntry.text] = int(pop.text)"
   ]
  },
  {
   "cell_type": "code",
   "execution_count": 67,
   "metadata": {
    "collapsed": false
   },
   "outputs": [
    {
     "data": {
      "text/html": [
       "<div>\n",
       "<style>\n",
       "    .dataframe thead tr:only-child th {\n",
       "        text-align: right;\n",
       "    }\n",
       "\n",
       "    .dataframe thead th {\n",
       "        text-align: left;\n",
       "    }\n",
       "\n",
       "    .dataframe tbody tr th {\n",
       "        vertical-align: top;\n",
       "    }\n",
       "</style>\n",
       "<table border=\"1\" class=\"dataframe\">\n",
       "  <thead>\n",
       "    <tr style=\"text-align: right;\">\n",
       "      <th></th>\n",
       "      <th>Country</th>\n",
       "      <th>Population</th>\n",
       "    </tr>\n",
       "  </thead>\n",
       "  <tbody>\n",
       "    <tr>\n",
       "      <th>0</th>\n",
       "      <td>Albania</td>\n",
       "      <td>2800138</td>\n",
       "    </tr>\n",
       "    <tr>\n",
       "      <th>1</th>\n",
       "      <td>Greece</td>\n",
       "      <td>10816286</td>\n",
       "    </tr>\n",
       "    <tr>\n",
       "      <th>2</th>\n",
       "      <td>Macedonia</td>\n",
       "      <td>2059794</td>\n",
       "    </tr>\n",
       "    <tr>\n",
       "      <th>3</th>\n",
       "      <td>Serbia</td>\n",
       "      <td>7120666</td>\n",
       "    </tr>\n",
       "    <tr>\n",
       "      <th>4</th>\n",
       "      <td>Montenegro</td>\n",
       "      <td>620029</td>\n",
       "    </tr>\n",
       "  </tbody>\n",
       "</table>\n",
       "</div>"
      ],
      "text/plain": [
       "      Country  Population\n",
       "0     Albania     2800138\n",
       "1      Greece    10816286\n",
       "2   Macedonia     2059794\n",
       "3      Serbia     7120666\n",
       "4  Montenegro      620029"
      ]
     },
     "execution_count": 67,
     "metadata": {},
     "output_type": "execute_result"
    }
   ],
   "source": [
    "# Create a dataframe cpdf from the dictionay c_p\n",
    "cpdf = pd.DataFrame(list(c_p.items()), columns=['Country', 'Population'])\n",
    "cpdf.head()"
   ]
  },
  {
   "cell_type": "code",
   "execution_count": 68,
   "metadata": {
    "collapsed": false
   },
   "outputs": [],
   "source": [
    "# Define a list co_etg\n",
    "co_etg = []\n",
    "# Loop over the countries\n",
    "for el in document.iterfind('country'):\n",
    "    # Get the names of each country\n",
    "    co = el.find('name').text\n",
    "    # Loop over the element ethnicgroup\n",
    "    for et in el.iterfind('ethnicgroup'):\n",
    "        # Get the name of each ethnic_group\n",
    "        etg_name = et.text\n",
    "        # Get the attribute 'percentage' value and make the dtype as float\n",
    "        etg_prcnt = float(et.attrib['percentage'])\n",
    "        # Create the list co_etg by appending the required data\n",
    "        co_etg.append([co,etg_name,etg_prcnt])"
   ]
  },
  {
   "cell_type": "code",
   "execution_count": 69,
   "metadata": {
    "collapsed": false
   },
   "outputs": [],
   "source": [
    "# Create a data frame co_etgdf from the list co_etg with defined columns\n",
    "co_etgdf = pd.DataFrame(co_etg, columns = ['Country', 'Ethnic_group', 'Ethnic_group_prcnt'])"
   ]
  },
  {
   "cell_type": "code",
   "execution_count": 70,
   "metadata": {
    "collapsed": false
   },
   "outputs": [
    {
     "data": {
      "text/html": [
       "<div>\n",
       "<style>\n",
       "    .dataframe thead tr:only-child th {\n",
       "        text-align: right;\n",
       "    }\n",
       "\n",
       "    .dataframe thead th {\n",
       "        text-align: left;\n",
       "    }\n",
       "\n",
       "    .dataframe tbody tr th {\n",
       "        vertical-align: top;\n",
       "    }\n",
       "</style>\n",
       "<table border=\"1\" class=\"dataframe\">\n",
       "  <thead>\n",
       "    <tr style=\"text-align: right;\">\n",
       "      <th></th>\n",
       "      <th>Country</th>\n",
       "      <th>Ethnic_group</th>\n",
       "      <th>Ethnic_group_prcnt</th>\n",
       "    </tr>\n",
       "  </thead>\n",
       "  <tbody>\n",
       "    <tr>\n",
       "      <th>0</th>\n",
       "      <td>Albania</td>\n",
       "      <td>Albanian</td>\n",
       "      <td>95.0</td>\n",
       "    </tr>\n",
       "    <tr>\n",
       "      <th>1</th>\n",
       "      <td>Albania</td>\n",
       "      <td>Greek</td>\n",
       "      <td>3.0</td>\n",
       "    </tr>\n",
       "    <tr>\n",
       "      <th>2</th>\n",
       "      <td>Greece</td>\n",
       "      <td>Greek</td>\n",
       "      <td>93.0</td>\n",
       "    </tr>\n",
       "    <tr>\n",
       "      <th>3</th>\n",
       "      <td>Macedonia</td>\n",
       "      <td>Macedonian</td>\n",
       "      <td>64.2</td>\n",
       "    </tr>\n",
       "    <tr>\n",
       "      <th>4</th>\n",
       "      <td>Macedonia</td>\n",
       "      <td>Albanian</td>\n",
       "      <td>25.2</td>\n",
       "    </tr>\n",
       "  </tbody>\n",
       "</table>\n",
       "</div>"
      ],
      "text/plain": [
       "     Country Ethnic_group  Ethnic_group_prcnt\n",
       "0    Albania     Albanian                95.0\n",
       "1    Albania        Greek                 3.0\n",
       "2     Greece        Greek                93.0\n",
       "3  Macedonia   Macedonian                64.2\n",
       "4  Macedonia     Albanian                25.2"
      ]
     },
     "execution_count": 70,
     "metadata": {},
     "output_type": "execute_result"
    }
   ],
   "source": [
    "co_etgdf.head()"
   ]
  },
  {
   "cell_type": "code",
   "execution_count": 71,
   "metadata": {
    "collapsed": false
   },
   "outputs": [],
   "source": [
    "# Merge the two data frames 'co_etgdf' and 'cpdf' \n",
    "largest_ethnic_groups = pd.merge(co_etgdf, cpdf, on='Country')"
   ]
  },
  {
   "cell_type": "code",
   "execution_count": 72,
   "metadata": {
    "collapsed": false
   },
   "outputs": [
    {
     "data": {
      "text/html": [
       "<div>\n",
       "<style>\n",
       "    .dataframe thead tr:only-child th {\n",
       "        text-align: right;\n",
       "    }\n",
       "\n",
       "    .dataframe thead th {\n",
       "        text-align: left;\n",
       "    }\n",
       "\n",
       "    .dataframe tbody tr th {\n",
       "        vertical-align: top;\n",
       "    }\n",
       "</style>\n",
       "<table border=\"1\" class=\"dataframe\">\n",
       "  <thead>\n",
       "    <tr style=\"text-align: right;\">\n",
       "      <th></th>\n",
       "      <th>Country</th>\n",
       "      <th>Ethnic_group</th>\n",
       "      <th>Ethnic_group_prcnt</th>\n",
       "      <th>Population</th>\n",
       "    </tr>\n",
       "  </thead>\n",
       "  <tbody>\n",
       "    <tr>\n",
       "      <th>0</th>\n",
       "      <td>Albania</td>\n",
       "      <td>Albanian</td>\n",
       "      <td>95.0</td>\n",
       "      <td>2800138</td>\n",
       "    </tr>\n",
       "    <tr>\n",
       "      <th>1</th>\n",
       "      <td>Albania</td>\n",
       "      <td>Greek</td>\n",
       "      <td>3.0</td>\n",
       "      <td>2800138</td>\n",
       "    </tr>\n",
       "    <tr>\n",
       "      <th>2</th>\n",
       "      <td>Greece</td>\n",
       "      <td>Greek</td>\n",
       "      <td>93.0</td>\n",
       "      <td>10816286</td>\n",
       "    </tr>\n",
       "    <tr>\n",
       "      <th>3</th>\n",
       "      <td>Macedonia</td>\n",
       "      <td>Macedonian</td>\n",
       "      <td>64.2</td>\n",
       "      <td>2059794</td>\n",
       "    </tr>\n",
       "    <tr>\n",
       "      <th>4</th>\n",
       "      <td>Macedonia</td>\n",
       "      <td>Albanian</td>\n",
       "      <td>25.2</td>\n",
       "      <td>2059794</td>\n",
       "    </tr>\n",
       "  </tbody>\n",
       "</table>\n",
       "</div>"
      ],
      "text/plain": [
       "     Country Ethnic_group  Ethnic_group_prcnt  Population\n",
       "0    Albania     Albanian                95.0     2800138\n",
       "1    Albania        Greek                 3.0     2800138\n",
       "2     Greece        Greek                93.0    10816286\n",
       "3  Macedonia   Macedonian                64.2     2059794\n",
       "4  Macedonia     Albanian                25.2     2059794"
      ]
     },
     "execution_count": 72,
     "metadata": {},
     "output_type": "execute_result"
    }
   ],
   "source": [
    "largest_ethnic_groups.head()"
   ]
  },
  {
   "cell_type": "code",
   "execution_count": 73,
   "metadata": {
    "collapsed": true
   },
   "outputs": [],
   "source": [
    "# Calculate the population of each ethnic group of the overall population\n",
    "largest_ethnic_groups['Ethnic_group_pop'] = (largest_ethnic_groups['Population']*largest_ethnic_groups['Ethnic_group_prcnt'])/100"
   ]
  },
  {
   "cell_type": "code",
   "execution_count": 74,
   "metadata": {
    "collapsed": true
   },
   "outputs": [],
   "source": [
    "# Define the data type of Ethnic Group population as integer\n",
    "largest_ethnic_groups.Ethnic_group_pop = largest_ethnic_groups.Ethnic_group_pop.astype(int)"
   ]
  },
  {
   "cell_type": "code",
   "execution_count": 75,
   "metadata": {
    "collapsed": true
   },
   "outputs": [],
   "source": [
    "# Rearrange the columns of the data frame \n",
    "largest_ethnic_groups = largest_ethnic_groups[['Country', 'Ethnic_group', 'Population','Ethnic_group_prcnt', 'Ethnic_group_pop']]"
   ]
  },
  {
   "cell_type": "code",
   "execution_count": 76,
   "metadata": {
    "collapsed": false
   },
   "outputs": [
    {
     "data": {
      "text/html": [
       "<div>\n",
       "<style>\n",
       "    .dataframe thead tr:only-child th {\n",
       "        text-align: right;\n",
       "    }\n",
       "\n",
       "    .dataframe thead th {\n",
       "        text-align: left;\n",
       "    }\n",
       "\n",
       "    .dataframe tbody tr th {\n",
       "        vertical-align: top;\n",
       "    }\n",
       "</style>\n",
       "<table border=\"1\" class=\"dataframe\">\n",
       "  <thead>\n",
       "    <tr style=\"text-align: right;\">\n",
       "      <th></th>\n",
       "      <th>Country</th>\n",
       "      <th>Ethnic_group</th>\n",
       "      <th>Population</th>\n",
       "      <th>Ethnic_group_prcnt</th>\n",
       "      <th>Ethnic_group_pop</th>\n",
       "    </tr>\n",
       "  </thead>\n",
       "  <tbody>\n",
       "    <tr>\n",
       "      <th>176</th>\n",
       "      <td>China</td>\n",
       "      <td>Han Chinese</td>\n",
       "      <td>1360720000</td>\n",
       "      <td>91.50</td>\n",
       "      <td>1245058800</td>\n",
       "    </tr>\n",
       "    <tr>\n",
       "      <th>221</th>\n",
       "      <td>India</td>\n",
       "      <td>Indo-Aryan</td>\n",
       "      <td>1210854977</td>\n",
       "      <td>72.00</td>\n",
       "      <td>871815583</td>\n",
       "    </tr>\n",
       "    <tr>\n",
       "      <th>220</th>\n",
       "      <td>India</td>\n",
       "      <td>Dravidian</td>\n",
       "      <td>1210854977</td>\n",
       "      <td>25.00</td>\n",
       "      <td>302713744</td>\n",
       "    </tr>\n",
       "    <tr>\n",
       "      <th>345</th>\n",
       "      <td>United States</td>\n",
       "      <td>European</td>\n",
       "      <td>318857056</td>\n",
       "      <td>79.96</td>\n",
       "      <td>254958101</td>\n",
       "    </tr>\n",
       "    <tr>\n",
       "      <th>520</th>\n",
       "      <td>Nigeria</td>\n",
       "      <td>African</td>\n",
       "      <td>164294516</td>\n",
       "      <td>99.00</td>\n",
       "      <td>162651570</td>\n",
       "    </tr>\n",
       "    <tr>\n",
       "      <th>212</th>\n",
       "      <td>Bangladesh</td>\n",
       "      <td>Bengali</td>\n",
       "      <td>149772364</td>\n",
       "      <td>98.00</td>\n",
       "      <td>146776916</td>\n",
       "    </tr>\n",
       "    <tr>\n",
       "      <th>299</th>\n",
       "      <td>Japan</td>\n",
       "      <td>Japanese</td>\n",
       "      <td>127298000</td>\n",
       "      <td>99.40</td>\n",
       "      <td>126534212</td>\n",
       "    </tr>\n",
       "    <tr>\n",
       "      <th>93</th>\n",
       "      <td>Russia</td>\n",
       "      <td>Russian</td>\n",
       "      <td>143666931</td>\n",
       "      <td>79.80</td>\n",
       "      <td>114646210</td>\n",
       "    </tr>\n",
       "    <tr>\n",
       "      <th>278</th>\n",
       "      <td>Indonesia</td>\n",
       "      <td>Javanese</td>\n",
       "      <td>252124458</td>\n",
       "      <td>45.00</td>\n",
       "      <td>113456006</td>\n",
       "    </tr>\n",
       "    <tr>\n",
       "      <th>461</th>\n",
       "      <td>Brazil</td>\n",
       "      <td>European</td>\n",
       "      <td>202768562</td>\n",
       "      <td>53.70</td>\n",
       "      <td>108886717</td>\n",
       "    </tr>\n",
       "  </tbody>\n",
       "</table>\n",
       "</div>"
      ],
      "text/plain": [
       "           Country Ethnic_group  Population  Ethnic_group_prcnt  \\\n",
       "176          China  Han Chinese  1360720000               91.50   \n",
       "221          India   Indo-Aryan  1210854977               72.00   \n",
       "220          India    Dravidian  1210854977               25.00   \n",
       "345  United States     European   318857056               79.96   \n",
       "520        Nigeria      African   164294516               99.00   \n",
       "212     Bangladesh      Bengali   149772364               98.00   \n",
       "299          Japan     Japanese   127298000               99.40   \n",
       "93          Russia      Russian   143666931               79.80   \n",
       "278      Indonesia     Javanese   252124458               45.00   \n",
       "461         Brazil     European   202768562               53.70   \n",
       "\n",
       "     Ethnic_group_pop  \n",
       "176        1245058800  \n",
       "221         871815583  \n",
       "220         302713744  \n",
       "345         254958101  \n",
       "520         162651570  \n",
       "212         146776916  \n",
       "299         126534212  \n",
       "93          114646210  \n",
       "278         113456006  \n",
       "461         108886717  "
      ]
     },
     "execution_count": 76,
     "metadata": {},
     "output_type": "execute_result"
    }
   ],
   "source": [
    "# Sort the values of 'Ethnic_group_pop' and display the top ten 'Ethnic group population\n",
    "largest_ethnic_groups.sort_values('Ethnic_group_pop', ascending=False).head(10)"
   ]
  },
  {
   "cell_type": "markdown",
   "metadata": {},
   "source": [
    "# 4. Name and Country of a) longest river, b) largest lake and c) airport at highest elevation"
   ]
  },
  {
   "cell_type": "code",
   "execution_count": 77,
   "metadata": {
    "collapsed": true
   },
   "outputs": [],
   "source": [
    "# Define a dictionary 'cntry'\n",
    "cntry = {}\n",
    "# Loop over all the countries\n",
    "for el in document.iterfind('country'):\n",
    "    # Find the name of each country\n",
    "    co_name = el.find('name').text\n",
    "    # Retrieve the code of each country which is present in the attribute \"car_code\"\n",
    "    co_code = el.attrib['car_code']\n",
    "    # Create the dictionary 'cntry'\n",
    "    cntry[co_code] = co_name    "
   ]
  },
  {
   "cell_type": "code",
   "execution_count": 78,
   "metadata": {
    "collapsed": false
   },
   "outputs": [],
   "source": [
    "# Create a data frame 'cntry_df' from the dictionary 'cntry'\n",
    "cntry_df = pd.DataFrame(list(cntry.items()), columns=['Country_Code', 'Country_Name'])"
   ]
  },
  {
   "cell_type": "code",
   "execution_count": 79,
   "metadata": {
    "collapsed": false
   },
   "outputs": [
    {
     "data": {
      "text/html": [
       "<div>\n",
       "<style>\n",
       "    .dataframe thead tr:only-child th {\n",
       "        text-align: right;\n",
       "    }\n",
       "\n",
       "    .dataframe thead th {\n",
       "        text-align: left;\n",
       "    }\n",
       "\n",
       "    .dataframe tbody tr th {\n",
       "        vertical-align: top;\n",
       "    }\n",
       "</style>\n",
       "<table border=\"1\" class=\"dataframe\">\n",
       "  <thead>\n",
       "    <tr style=\"text-align: right;\">\n",
       "      <th></th>\n",
       "      <th>Country_Code</th>\n",
       "      <th>Country_Name</th>\n",
       "    </tr>\n",
       "  </thead>\n",
       "  <tbody>\n",
       "    <tr>\n",
       "      <th>0</th>\n",
       "      <td>AL</td>\n",
       "      <td>Albania</td>\n",
       "    </tr>\n",
       "    <tr>\n",
       "      <th>1</th>\n",
       "      <td>GR</td>\n",
       "      <td>Greece</td>\n",
       "    </tr>\n",
       "    <tr>\n",
       "      <th>2</th>\n",
       "      <td>MK</td>\n",
       "      <td>Macedonia</td>\n",
       "    </tr>\n",
       "    <tr>\n",
       "      <th>3</th>\n",
       "      <td>SRB</td>\n",
       "      <td>Serbia</td>\n",
       "    </tr>\n",
       "    <tr>\n",
       "      <th>4</th>\n",
       "      <td>MNE</td>\n",
       "      <td>Montenegro</td>\n",
       "    </tr>\n",
       "  </tbody>\n",
       "</table>\n",
       "</div>"
      ],
      "text/plain": [
       "  Country_Code Country_Name\n",
       "0           AL      Albania\n",
       "1           GR       Greece\n",
       "2           MK    Macedonia\n",
       "3          SRB       Serbia\n",
       "4          MNE   Montenegro"
      ]
     },
     "execution_count": 79,
     "metadata": {},
     "output_type": "execute_result"
    }
   ],
   "source": [
    "cntry_df.head()"
   ]
  },
  {
   "cell_type": "code",
   "execution_count": 80,
   "metadata": {
    "collapsed": false
   },
   "outputs": [],
   "source": [
    "# Define a list 'r_list'\n",
    "r_list = []\n",
    "# Loop over each river and retrieve the 'river name', 'length'\n",
    "for el in document.iterfind('river'):\n",
    "    r_name = el.find('name').text\n",
    "    ln = el.find('length')\n",
    "    # If the length of the river is not null, get the text of the subelement 'length'\n",
    "    if ln != None:\n",
    "        r_ln = ln.text\n",
    "        # Loop over all the countries and split the text if they are multiple countries\n",
    "        for se in el.attrib['country'].split():\n",
    "            r_cntry = cntry[se]\n",
    "            r_list.append([se, r_cntry, r_name, ln.text])"
   ]
  },
  {
   "cell_type": "code",
   "execution_count": 81,
   "metadata": {
    "collapsed": false
   },
   "outputs": [],
   "source": [
    "# Create a dataframe 'rdf' from the list 'r_list'\n",
    "rdf = pd.DataFrame(r_list, columns=['Country_Code', 'Country_Name', 'River_Name', 'River_Length'])"
   ]
  },
  {
   "cell_type": "code",
   "execution_count": 82,
   "metadata": {
    "collapsed": false
   },
   "outputs": [],
   "source": [
    "# Define the data type of 'River_Length' as float\n",
    "rdf.River_Length = rdf.River_Length.astype(float)"
   ]
  },
  {
   "cell_type": "code",
   "execution_count": 83,
   "metadata": {
    "collapsed": false
   },
   "outputs": [
    {
     "data": {
      "text/html": [
       "<div>\n",
       "<style>\n",
       "    .dataframe thead tr:only-child th {\n",
       "        text-align: right;\n",
       "    }\n",
       "\n",
       "    .dataframe thead th {\n",
       "        text-align: left;\n",
       "    }\n",
       "\n",
       "    .dataframe tbody tr th {\n",
       "        vertical-align: top;\n",
       "    }\n",
       "</style>\n",
       "<table border=\"1\" class=\"dataframe\">\n",
       "  <thead>\n",
       "    <tr style=\"text-align: right;\">\n",
       "      <th></th>\n",
       "      <th>Country_Code</th>\n",
       "      <th>Country_Name</th>\n",
       "      <th>River_Name</th>\n",
       "      <th>River_Length</th>\n",
       "    </tr>\n",
       "  </thead>\n",
       "  <tbody>\n",
       "    <tr>\n",
       "      <th>300</th>\n",
       "      <td>PE</td>\n",
       "      <td>Peru</td>\n",
       "      <td>Amazonas</td>\n",
       "      <td>6448.0</td>\n",
       "    </tr>\n",
       "  </tbody>\n",
       "</table>\n",
       "</div>"
      ],
      "text/plain": [
       "    Country_Code Country_Name River_Name  River_Length\n",
       "300           PE         Peru   Amazonas        6448.0"
      ]
     },
     "execution_count": 83,
     "metadata": {},
     "output_type": "execute_result"
    }
   ],
   "source": [
    "# Country with the Largest River\n",
    "rdf.sort_values('River_Length', ascending=False).head(1)"
   ]
  },
  {
   "cell_type": "code",
   "execution_count": 84,
   "metadata": {
    "collapsed": false
   },
   "outputs": [],
   "source": [
    "# Define a list \n",
    "l_list = []\n",
    "# Loop over all the lakes and find thier names and areas\n",
    "for el in document.iterfind('lake'):\n",
    "    l_name = el.find('name').text\n",
    "    l_area = el.find('area')\n",
    "    if l_area != None:\n",
    "        l_ar = l_area.text\n",
    "        # Loops over all the countries and splits in case of multiple countries\n",
    "        for se in el.attrib['country'].split():\n",
    "            l_co = cntry[se]\n",
    "            l_list.append([se, l_co, l_name, l_ar])"
   ]
  },
  {
   "cell_type": "code",
   "execution_count": 85,
   "metadata": {
    "collapsed": false
   },
   "outputs": [],
   "source": [
    "# Create a data frame ldf from the list l_list\n",
    "ldf = pd.DataFrame(l_list, columns=['Country_Code', 'Country_Name', 'Lake_Name', 'Lake_Area'])"
   ]
  },
  {
   "cell_type": "code",
   "execution_count": 86,
   "metadata": {
    "collapsed": false
   },
   "outputs": [],
   "source": [
    "# Change the data type of 'Lake_Area' to float\n",
    "ldf.Lake_Area = ldf.Lake_Area.astype(float)"
   ]
  },
  {
   "cell_type": "code",
   "execution_count": 87,
   "metadata": {
    "collapsed": false
   },
   "outputs": [
    {
     "data": {
      "text/html": [
       "<div>\n",
       "<style>\n",
       "    .dataframe thead tr:only-child th {\n",
       "        text-align: right;\n",
       "    }\n",
       "\n",
       "    .dataframe thead th {\n",
       "        text-align: left;\n",
       "    }\n",
       "\n",
       "    .dataframe tbody tr th {\n",
       "        vertical-align: top;\n",
       "    }\n",
       "</style>\n",
       "<table border=\"1\" class=\"dataframe\">\n",
       "  <thead>\n",
       "    <tr style=\"text-align: right;\">\n",
       "      <th></th>\n",
       "      <th>Country_Code</th>\n",
       "      <th>Country_Name</th>\n",
       "      <th>Lake_Name</th>\n",
       "      <th>Lake_Area</th>\n",
       "    </tr>\n",
       "  </thead>\n",
       "  <tbody>\n",
       "    <tr>\n",
       "      <th>68</th>\n",
       "      <td>R</td>\n",
       "      <td>Russia</td>\n",
       "      <td>Caspian Sea</td>\n",
       "      <td>386400.0</td>\n",
       "    </tr>\n",
       "  </tbody>\n",
       "</table>\n",
       "</div>"
      ],
      "text/plain": [
       "   Country_Code Country_Name    Lake_Name  Lake_Area\n",
       "68            R       Russia  Caspian Sea   386400.0"
      ]
     },
     "execution_count": 87,
     "metadata": {},
     "output_type": "execute_result"
    }
   ],
   "source": [
    "# Country with the largest lake\n",
    "ldf.sort_values('Lake_Area', ascending=False).head(1)"
   ]
  },
  {
   "cell_type": "code",
   "execution_count": 88,
   "metadata": {
    "collapsed": false
   },
   "outputs": [],
   "source": [
    "# define a list\n",
    "a_list = []\n",
    "# Loop over all the airports and find thier names and elevation\n",
    "for e in document.iterfind('airport'):\n",
    "    a_name = e.find('name').text\n",
    "    a_elev = e.find('elevation')\n",
    "    if a_elev != None:\n",
    "        air_elev = a_elev.text\n",
    "        # Loops over all the countries and splits in case of multiple values\n",
    "        for se in e.attrib['country'].split():\n",
    "            a_co = cntry[se]\n",
    "            a_list.append([se, a_co, a_name, air_elev])            "
   ]
  },
  {
   "cell_type": "code",
   "execution_count": 89,
   "metadata": {
    "collapsed": false
   },
   "outputs": [],
   "source": [
    "# Create a data frame a_df from the list a_list\n",
    "a_df = pd.DataFrame(a_list, columns = ['Country_Code', 'Country_Name', 'Airport_Name', 'Airport_Elevation'])"
   ]
  },
  {
   "cell_type": "code",
   "execution_count": 90,
   "metadata": {
    "collapsed": false
   },
   "outputs": [],
   "source": [
    "# Covert the data type of 'Airport_Elevation' to float\n",
    "a_df.Airport_Elevation = a_df.Airport_Elevation.astype(float)"
   ]
  },
  {
   "cell_type": "code",
   "execution_count": 91,
   "metadata": {
    "collapsed": false
   },
   "outputs": [
    {
     "data": {
      "text/html": [
       "<div>\n",
       "<style>\n",
       "    .dataframe thead tr:only-child th {\n",
       "        text-align: right;\n",
       "    }\n",
       "\n",
       "    .dataframe thead th {\n",
       "        text-align: left;\n",
       "    }\n",
       "\n",
       "    .dataframe tbody tr th {\n",
       "        vertical-align: top;\n",
       "    }\n",
       "</style>\n",
       "<table border=\"1\" class=\"dataframe\">\n",
       "  <thead>\n",
       "    <tr style=\"text-align: right;\">\n",
       "      <th></th>\n",
       "      <th>Country_Code</th>\n",
       "      <th>Country_Name</th>\n",
       "      <th>Airport_Name</th>\n",
       "      <th>Airport_Elevation</th>\n",
       "    </tr>\n",
       "  </thead>\n",
       "  <tbody>\n",
       "    <tr>\n",
       "      <th>80</th>\n",
       "      <td>BOL</td>\n",
       "      <td>Bolivia</td>\n",
       "      <td>El Alto Intl</td>\n",
       "      <td>4063.0</td>\n",
       "    </tr>\n",
       "  </tbody>\n",
       "</table>\n",
       "</div>"
      ],
      "text/plain": [
       "   Country_Code Country_Name  Airport_Name  Airport_Elevation\n",
       "80          BOL      Bolivia  El Alto Intl             4063.0"
      ]
     },
     "execution_count": 91,
     "metadata": {},
     "output_type": "execute_result"
    }
   ],
   "source": [
    "# Display the country with highest elevation\n",
    "a_df.sort_values('Airport_Elevation', ascending=False).head(1)"
   ]
  }
 ],
 "metadata": {
  "kernelspec": {
   "display_name": "Python 3",
   "language": "python",
   "name": "python3"
  },
  "language_info": {
   "codemirror_mode": {
    "name": "ipython",
    "version": 3
   },
   "file_extension": ".py",
   "mimetype": "text/x-python",
   "name": "python",
   "nbconvert_exporter": "python",
   "pygments_lexer": "ipython3",
   "version": "3.6.0"
  }
 },
 "nbformat": 4,
 "nbformat_minor": 0
}
